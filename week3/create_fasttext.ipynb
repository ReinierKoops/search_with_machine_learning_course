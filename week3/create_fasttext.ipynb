{
 "cells": [
  {
   "cell_type": "code",
   "execution_count": 3,
   "metadata": {},
   "outputs": [],
   "source": [
    "import os\n",
    "import pandas as pd\n",
    "import numpy as np\n",
    "import csv\n",
    "\n",
    "train_file = r'/workspace/datasets/labeled_query_data.txt'"
   ]
  },
  {
   "cell_type": "code",
   "execution_count": 12,
   "metadata": {},
   "outputs": [],
   "source": [
    "# shuffle dataset and create train and test of size 50.000\n",
    "!shuf /workspace/datasets/labeled_query_data.txt  > /workspace/datasets/shuffled_labeled_query_data.txt\n",
    "!head -n 50000 /workspace/datasets/labeled_query_data.txt > /workspace/datasets/wk3/query_data.train\n",
    "!tail -n 50000 /workspace/datasets/labeled_query_data.txt > /workspace/datasets/wk3/query_data.test"
   ]
  },
  {
   "cell_type": "code",
   "execution_count": 17,
   "metadata": {},
   "outputs": [
    {
     "name": "stdout",
     "output_type": "stream",
     "text": [
      "Read 0M words\n",
      "Number of words:  7975\n",
      "Number of labels: 387\n",
      "Progress: 100.0% words/sec/thread:    1048 lr:  0.000000 avg.loss:  4.476901 ETA:   0h 0m 0s 0.080236 avg.loss:  6.557899 ETA:   0h 1m 2s avg.loss:  5.380254 ETA:   0h 0m39s 60.3% words/sec/thread:    1046 lr:  0.039673 avg.loss:  5.146422 ETA:   0h 0m30s ETA:   0h 0m18s 0m16sh 0m11s avg.loss:  4.476968 ETA:   0h 0m 0s\n"
     ]
    }
   ],
   "source": [
    "!~/fastText-0.9.2/fasttext supervised -input /workspace/datasets/wk3/query_data.train -output /workspace/datasets/wk3/prod_query -lr 0.1 -wordNgrams 2"
   ]
  },
  {
   "cell_type": "code",
   "execution_count": 20,
   "metadata": {},
   "outputs": [
    {
     "name": "stdout",
     "output_type": "stream",
     "text": [
      "N\t50000\n",
      "P@1\t0.451\n",
      "R@1\t0.451\n"
     ]
    }
   ],
   "source": [
    "!~/fastText-0.9.2/fasttext test /workspace/datasets/wk3/prod_query.bin /workspace/datasets/wk3/query_data.test"
   ]
  },
  {
   "cell_type": "code",
   "execution_count": 29,
   "metadata": {},
   "outputs": [
    {
     "name": "stdout",
     "output_type": "stream",
     "text": [
      "N\t50000\n",
      "P@3\t0.198\n",
      "R@3\t0.593\n"
     ]
    }
   ],
   "source": [
    "!~/fastText-0.9.2/fasttext test /workspace/datasets/wk3/prod_query.bin /workspace/datasets/wk3/query_data.test 3"
   ]
  },
  {
   "cell_type": "code",
   "execution_count": 30,
   "metadata": {},
   "outputs": [
    {
     "name": "stdout",
     "output_type": "stream",
     "text": [
      "N\t50000\n",
      "P@5\t0.13\n",
      "R@5\t0.652\n"
     ]
    }
   ],
   "source": [
    "!~/fastText-0.9.2/fasttext test /workspace/datasets/wk3/prod_query.bin /workspace/datasets/wk3/query_data.test 5"
   ]
  }
 ],
 "metadata": {
  "kernelspec": {
   "display_name": "Python 3.9.7 64-bit ('search_with_ml')",
   "language": "python",
   "name": "python3"
  },
  "language_info": {
   "codemirror_mode": {
    "name": "ipython",
    "version": 3
   },
   "file_extension": ".py",
   "mimetype": "text/x-python",
   "name": "python",
   "nbconvert_exporter": "python",
   "pygments_lexer": "ipython3",
   "version": "3.9.7"
  },
  "orig_nbformat": 4,
  "vscode": {
   "interpreter": {
    "hash": "67e596a8a2bf29352050fb333d24bd7b02bfe9fb96f64551bb2b9fad903a30a1"
   }
  }
 },
 "nbformat": 4,
 "nbformat_minor": 2
}
